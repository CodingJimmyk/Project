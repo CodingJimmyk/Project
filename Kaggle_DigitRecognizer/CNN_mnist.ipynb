{
 "cells": [
  {
   "cell_type": "code",
   "execution_count": 3,
   "metadata": {},
   "outputs": [],
   "source": [
    "import pandas as pd\n",
    "import numpy as np\n",
    "from tensorflow.keras import utils, Sequential\n",
    "from tensorflow.keras.layers import Dense, Dropout, Conv2D, MaxPooling2D, Flatten\n",
    "import matplotlib.pyplot as plt\n",
    "data = pd.read_csv('./train.csv')\n",
    "#print(data)"
   ]
  },
  {
   "cell_type": "code",
   "execution_count": 127,
   "metadata": {},
   "outputs": [
    {
     "name": "stdout",
     "output_type": "stream",
     "text": [
      "[2, 3, 43, 5]\n"
     ]
    }
   ],
   "source": [
    "a = [1,2,3,43,5]\n",
    "print(a[1:])"
   ]
  },
  {
   "cell_type": "code",
   "execution_count": 4,
   "metadata": {},
   "outputs": [
    {
     "name": "stdout",
     "output_type": "stream",
     "text": [
      "image.shape =  (42000, 28, 28, 1) \n",
      "label.shape =  (42000,) \n",
      "TrainOneHot.shape =  (42000, 10)\n"
     ]
    }
   ],
   "source": [
    "train_image = data.iloc[:, 1:].to_numpy().astype('float32')/255\n",
    "train_image = train_image.reshape(train_image.shape[0], 28, 28, 1).astype('float32')\n",
    "train_label = data.loc[:, 'label'].to_numpy()\n",
    "TrainOneHot = utils.to_categorical (train_label)\n",
    "\n",
    "#print(train_label[:5])\n",
    "#print(TrainOneHot[:5])\n",
    "#print(train_image)\n",
    "print(\"image.shape = \", train_image.shape, \"\\nlabel.shape = \", train_label.shape, \"\\nTrainOneHot.shape = \",TrainOneHot.shape)"
   ]
  },
  {
   "cell_type": "code",
   "execution_count": 5,
   "metadata": {},
   "outputs": [],
   "source": [
    "#CNN model\n",
    "model2 = Sequential  ()\n",
    "model2.add ( Conv2D (16, kernel_size=(5,5), padding='same', input_shape = (28,28,1),\n",
    "           activation='relu'))\n",
    "model2.add (MaxPooling2D (pool_size=(2,2)))\n",
    "\n",
    "model2.add ( Conv2D (32, kernel_size=(5,5), \n",
    "       padding='same', activation='relu' ) )\n",
    "model2.add ( MaxPooling2D (pool_size=(2,2)))\n",
    "model2.add ( Dropout (0.5) )\n",
    "model2.add ( Flatten ( ) )\n",
    "\n",
    "model2.add ( Dense (128, activation='relu' ) )\n",
    "model2.add ( Dropout (0.5) )\n",
    "\n",
    "model2.add ( Dense (10, activation='softmax' ) )\n",
    "\n",
    "model2.compile ( loss='categorical_crossentropy', optimizer='adam', metrics=['accuracy'])\n",
    "#model2.summary ( ) "
   ]
  },
  {
   "cell_type": "code",
   "execution_count": 6,
   "metadata": {},
   "outputs": [],
   "source": [
    "from tensorflow.keras import optimizers\n",
    "from tensorflow.keras.callbacks import ModelCheckpoint, EarlyStopping\n",
    "adam = optimizers.Adam(learning_rate = 0.001)\n",
    "es = EarlyStopping(monitor = 'val_loss', mode = 'min', verbose = 1, patience = 30)\n",
    "mc = ModelCheckpoint('Model/CNN.h5', monitor = 'val_loss', mode = 'min', verbose = 1, save_best_only = True)\n",
    "callbacks_list = [mc, es]"
   ]
  },
  {
   "cell_type": "code",
   "execution_count": 7,
   "metadata": {},
   "outputs": [
    {
     "name": "stdout",
     "output_type": "stream",
     "text": [
      "Epoch 1/10\n",
      "263/263 [==============================] - 8s 31ms/step - loss: 0.5312 - accuracy: 0.8296 - val_loss: 0.1078 - val_accuracy: 0.9668\n",
      "Epoch 2/10\n",
      "263/263 [==============================] - 8s 29ms/step - loss: 0.1727 - accuracy: 0.9479 - val_loss: 0.0747 - val_accuracy: 0.9768\n",
      "Epoch 3/10\n",
      "263/263 [==============================] - 8s 29ms/step - loss: 0.1211 - accuracy: 0.9618 - val_loss: 0.0536 - val_accuracy: 0.9818\n",
      "Epoch 4/10\n",
      "263/263 [==============================] - 8s 29ms/step - loss: 0.1001 - accuracy: 0.9690 - val_loss: 0.0467 - val_accuracy: 0.9843\n",
      "Epoch 5/10\n",
      "263/263 [==============================] - 8s 29ms/step - loss: 0.0893 - accuracy: 0.9738 - val_loss: 0.0440 - val_accuracy: 0.9861\n",
      "Epoch 6/10\n",
      "263/263 [==============================] - 8s 29ms/step - loss: 0.0808 - accuracy: 0.9753 - val_loss: 0.0426 - val_accuracy: 0.9854\n",
      "Epoch 7/10\n",
      "263/263 [==============================] - 8s 29ms/step - loss: 0.0709 - accuracy: 0.9776 - val_loss: 0.0403 - val_accuracy: 0.9873\n",
      "Epoch 8/10\n",
      "263/263 [==============================] - 8s 29ms/step - loss: 0.0665 - accuracy: 0.9801 - val_loss: 0.0346 - val_accuracy: 0.9893\n",
      "Epoch 9/10\n",
      "263/263 [==============================] - 8s 29ms/step - loss: 0.0601 - accuracy: 0.9818 - val_loss: 0.0324 - val_accuracy: 0.9901\n",
      "Epoch 10/10\n",
      "263/263 [==============================] - 8s 30ms/step - loss: 0.0557 - accuracy: 0.9827 - val_loss: 0.0322 - val_accuracy: 0.9899\n"
     ]
    }
   ],
   "source": [
    "CNN_history=model2.fit (train_image, TrainOneHot, validation_split=0.2, epochs=10, batch_size=128)"
   ]
  },
  {
   "cell_type": "code",
   "execution_count": 8,
   "metadata": {},
   "outputs": [],
   "source": [
    "data = pd.read_csv('./test.csv')\n",
    "test_image = data.iloc[:, :].to_numpy().astype('float32')/255\n",
    "test_image = test_image.reshape(test_image.shape[0], 28, 28, 1).astype('float32')\n"
   ]
  },
  {
   "cell_type": "code",
   "execution_count": 9,
   "metadata": {},
   "outputs": [
    {
     "name": "stdout",
     "output_type": "stream",
     "text": [
      "WARNING:tensorflow:From C:\\Users\\Jimmy\\AppData\\Local\\Temp/ipykernel_8472/3480955131.py:1: Sequential.predict_classes (from tensorflow.python.keras.engine.sequential) is deprecated and will be removed after 2021-01-01.\n",
      "Instructions for updating:\n",
      "Please use instead:* `np.argmax(model.predict(x), axis=-1)`,   if your model does multi-class classification   (e.g. if it uses a `softmax` last-layer activation).* `(model.predict(x) > 0.5).astype(\"int32\")`,   if your model does binary classification   (e.g. if it uses a `sigmoid` last-layer activation).\n",
      "(28000,)\n"
     ]
    }
   ],
   "source": [
    "result = model2.predict_classes(test_image).flatten()\n",
    "print(result.shape)\n"
   ]
  },
  {
   "cell_type": "code",
   "execution_count": 10,
   "metadata": {},
   "outputs": [],
   "source": [
    "import csv\n",
    "with open('submit.csv', mode='w', newline='') as submit_file:\n",
    "    csv_writer = csv.writer(submit_file)\n",
    "    header = ['ImageId', 'Label']\n",
    "    csv_writer.writerow(header)\n",
    "    for i in range(result.shape[0]):\n",
    "        row = [i+1, result[i]]\n",
    "        csv_writer.writerow(row)"
   ]
  }
 ],
 "metadata": {
  "interpreter": {
   "hash": "bb8d9442538ee52b68603e6bc539d9f8dffc6d7011170b33a7aff01cf8b00899"
  },
  "kernelspec": {
   "display_name": "Python 3.8.12 64-bit ('tensorflow': conda)",
   "language": "python",
   "name": "python3"
  },
  "language_info": {
   "codemirror_mode": {
    "name": "ipython",
    "version": 3
   },
   "file_extension": ".py",
   "mimetype": "text/x-python",
   "name": "python",
   "nbconvert_exporter": "python",
   "pygments_lexer": "ipython3",
   "version": "3.8.12"
  },
  "orig_nbformat": 4
 },
 "nbformat": 4,
 "nbformat_minor": 2
}
