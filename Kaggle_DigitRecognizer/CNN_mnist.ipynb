{
 "cells": [
  {
   "cell_type": "code",
   "execution_count": 17,
   "metadata": {},
   "outputs": [],
   "source": [
    "import pandas as pd\n",
    "import numpy as np\n",
    "from tensorflow.keras import utils, Sequential\n",
    "from tensorflow.keras.layers import Dense, Dropout, Conv2D, MaxPooling2D, Flatten\n",
    "import matplotlib.pyplot as plt\n",
    "data = pd.read_csv('./train.csv')\n",
    "#print(data)"
   ]
  },
  {
   "cell_type": "code",
   "execution_count": 18,
   "metadata": {},
   "outputs": [
    {
     "name": "stdout",
     "output_type": "stream",
     "text": [
      "image.shape =  (42000, 28, 28, 1) \n",
      "label.shape =  (42000,) \n",
      "TrainOneHot.shape =  (42000, 10)\n"
     ]
    }
   ],
   "source": [
    "train_image = data.iloc[:, 1:].to_numpy().astype('float32')/255\n",
    "train_image = train_image.reshape(train_image.shape[0], 28, 28, 1).astype('float32')\n",
    "train_label = data.loc[:, 'label'].to_numpy()\n",
    "TrainOneHot = utils.to_categorical (train_label)\n",
    "\n",
    "#print(train_label[:5])\n",
    "#print(TrainOneHot[:5])\n",
    "#print(train_image)\n",
    "print(\"image.shape = \", train_image.shape, \"\\nlabel.shape = \", train_label.shape, \"\\nTrainOneHot.shape = \",TrainOneHot.shape)"
   ]
  },
  {
   "cell_type": "code",
   "execution_count": 19,
   "metadata": {},
   "outputs": [],
   "source": [
    "#CNN model\n",
    "model2 = Sequential  ()\n",
    "model2.add ( Conv2D (32, kernel_size=(5,5), padding='same', input_shape = (28,28,1),\n",
    "           activation='relu'))\n",
    "model2.add (MaxPooling2D (pool_size=(2,2)))\n",
    "\n",
    "model2.add ( Conv2D (32, kernel_size=(5,5), \n",
    "       padding='same', activation='relu' ) )\n",
    "model2.add ( MaxPooling2D (pool_size=(2,2)))\n",
    "model2.add ( Dropout (0.5) )\n",
    "model2.add ( Flatten ( ) )\n",
    "\n",
    "model2.add ( Dense (128, activation='relu' ) )\n",
    "model2.add ( Dropout (0.5) )\n",
    "\n",
    "model2.add ( Dense (10, activation='softmax' ) )\n",
    "\n",
    "model2.compile ( loss='categorical_crossentropy', optimizer='adam', metrics=['accuracy'])\n",
    "#model2.summary ( ) "
   ]
  },
  {
   "cell_type": "code",
   "execution_count": 20,
   "metadata": {},
   "outputs": [],
   "source": [
    "from tensorflow.keras import optimizers\n",
    "from tensorflow.keras.callbacks import ModelCheckpoint, EarlyStopping\n",
    "adam = optimizers.Adam(learning_rate = 0.001)\n",
    "es = EarlyStopping(monitor = 'val_loss', mode = 'min', verbose = 1, patience = 30)\n",
    "mc = ModelCheckpoint('Model/CNN.h5', monitor = 'val_loss', mode = 'min', verbose = 1, save_best_only = True)\n",
    "callbacks_list = [mc, es]"
   ]
  },
  {
   "cell_type": "code",
   "execution_count": 21,
   "metadata": {},
   "outputs": [
    {
     "name": "stdout",
     "output_type": "stream",
     "text": [
      "Epoch 1/20\n",
      "262/263 [============================>.] - ETA: 0s - loss: 0.4576 - accuracy: 0.8521\n",
      "Epoch 00001: val_loss improved from inf to 0.09407, saving model to Model\\CNN.h5\n",
      "263/263 [==============================] - 13s 49ms/step - loss: 0.4573 - accuracy: 0.8522 - val_loss: 0.0941 - val_accuracy: 0.9696\n",
      "Epoch 2/20\n",
      "263/263 [==============================] - ETA: 0s - loss: 0.1378 - accuracy: 0.9592\n",
      "Epoch 00002: val_loss improved from 0.09407 to 0.06244, saving model to Model\\CNN.h5\n",
      "263/263 [==============================] - 12s 46ms/step - loss: 0.1378 - accuracy: 0.9592 - val_loss: 0.0624 - val_accuracy: 0.9807\n",
      "Epoch 3/20\n",
      "263/263 [==============================] - ETA: 0s - loss: 0.1049 - accuracy: 0.9696\n",
      "Epoch 00003: val_loss improved from 0.06244 to 0.05302, saving model to Model\\CNN.h5\n",
      "263/263 [==============================] - 12s 46ms/step - loss: 0.1049 - accuracy: 0.9696 - val_loss: 0.0530 - val_accuracy: 0.9832\n",
      "Epoch 4/20\n",
      "262/263 [============================>.] - ETA: 0s - loss: 0.0870 - accuracy: 0.9741\n",
      "Epoch 00004: val_loss improved from 0.05302 to 0.04596, saving model to Model\\CNN.h5\n",
      "263/263 [==============================] - 12s 46ms/step - loss: 0.0872 - accuracy: 0.9741 - val_loss: 0.0460 - val_accuracy: 0.9846\n",
      "Epoch 5/20\n",
      "263/263 [==============================] - ETA: 0s - loss: 0.0765 - accuracy: 0.9767\n",
      "Epoch 00005: val_loss improved from 0.04596 to 0.03912, saving model to Model\\CNN.h5\n",
      "263/263 [==============================] - 12s 45ms/step - loss: 0.0765 - accuracy: 0.9767 - val_loss: 0.0391 - val_accuracy: 0.9875\n",
      "Epoch 6/20\n",
      "263/263 [==============================] - ETA: 0s - loss: 0.0680 - accuracy: 0.9795\n",
      "Epoch 00006: val_loss did not improve from 0.03912\n",
      "263/263 [==============================] - 12s 45ms/step - loss: 0.0680 - accuracy: 0.9795 - val_loss: 0.0407 - val_accuracy: 0.9871\n",
      "Epoch 7/20\n",
      "263/263 [==============================] - ETA: 0s - loss: 0.0595 - accuracy: 0.9812\n",
      "Epoch 00007: val_loss improved from 0.03912 to 0.03387, saving model to Model\\CNN.h5\n",
      "263/263 [==============================] - 12s 45ms/step - loss: 0.0595 - accuracy: 0.9812 - val_loss: 0.0339 - val_accuracy: 0.9893\n",
      "Epoch 8/20\n",
      "263/263 [==============================] - ETA: 0s - loss: 0.0566 - accuracy: 0.9826\n",
      "Epoch 00008: val_loss improved from 0.03387 to 0.03237, saving model to Model\\CNN.h5\n",
      "263/263 [==============================] - 12s 45ms/step - loss: 0.0566 - accuracy: 0.9826 - val_loss: 0.0324 - val_accuracy: 0.9900\n",
      "Epoch 9/20\n",
      "263/263 [==============================] - ETA: 0s - loss: 0.0525 - accuracy: 0.9840\n",
      "Epoch 00009: val_loss improved from 0.03237 to 0.03169, saving model to Model\\CNN.h5\n",
      "263/263 [==============================] - 12s 45ms/step - loss: 0.0525 - accuracy: 0.9840 - val_loss: 0.0317 - val_accuracy: 0.9905\n",
      "Epoch 10/20\n",
      "263/263 [==============================] - ETA: 0s - loss: 0.0469 - accuracy: 0.9851\n",
      "Epoch 00010: val_loss did not improve from 0.03169\n",
      "263/263 [==============================] - 12s 45ms/step - loss: 0.0469 - accuracy: 0.9851 - val_loss: 0.0339 - val_accuracy: 0.9906\n",
      "Epoch 11/20\n",
      "263/263 [==============================] - ETA: 0s - loss: 0.0455 - accuracy: 0.9857\n",
      "Epoch 00011: val_loss improved from 0.03169 to 0.02956, saving model to Model\\CNN.h5\n",
      "263/263 [==============================] - 12s 45ms/step - loss: 0.0455 - accuracy: 0.9857 - val_loss: 0.0296 - val_accuracy: 0.9913\n",
      "Epoch 12/20\n",
      "263/263 [==============================] - ETA: 0s - loss: 0.0442 - accuracy: 0.9861\n",
      "Epoch 00012: val_loss did not improve from 0.02956\n",
      "263/263 [==============================] - 12s 45ms/step - loss: 0.0442 - accuracy: 0.9861 - val_loss: 0.0317 - val_accuracy: 0.9907\n",
      "Epoch 13/20\n",
      "263/263 [==============================] - ETA: 0s - loss: 0.0409 - accuracy: 0.9878\n",
      "Epoch 00013: val_loss improved from 0.02956 to 0.02820, saving model to Model\\CNN.h5\n",
      "263/263 [==============================] - 12s 45ms/step - loss: 0.0409 - accuracy: 0.9878 - val_loss: 0.0282 - val_accuracy: 0.9926\n",
      "Epoch 14/20\n",
      "262/263 [============================>.] - ETA: 0s - loss: 0.0371 - accuracy: 0.9883\n",
      "Epoch 00014: val_loss did not improve from 0.02820\n",
      "263/263 [==============================] - 12s 45ms/step - loss: 0.0371 - accuracy: 0.9884 - val_loss: 0.0294 - val_accuracy: 0.9918\n",
      "Epoch 15/20\n",
      "263/263 [==============================] - ETA: 0s - loss: 0.0373 - accuracy: 0.9886\n",
      "Epoch 00015: val_loss did not improve from 0.02820\n",
      "263/263 [==============================] - 12s 45ms/step - loss: 0.0373 - accuracy: 0.9886 - val_loss: 0.0314 - val_accuracy: 0.9905\n",
      "Epoch 16/20\n",
      "262/263 [============================>.] - ETA: 0s - loss: 0.0357 - accuracy: 0.9884\n",
      "Epoch 00016: val_loss did not improve from 0.02820\n",
      "263/263 [==============================] - 12s 46ms/step - loss: 0.0358 - accuracy: 0.9884 - val_loss: 0.0287 - val_accuracy: 0.9919\n",
      "Epoch 17/20\n",
      "263/263 [==============================] - ETA: 0s - loss: 0.0322 - accuracy: 0.9891\n",
      "Epoch 00017: val_loss did not improve from 0.02820\n",
      "263/263 [==============================] - 13s 48ms/step - loss: 0.0322 - accuracy: 0.9891 - val_loss: 0.0287 - val_accuracy: 0.9924\n",
      "Epoch 18/20\n",
      "263/263 [==============================] - ETA: 0s - loss: 0.0324 - accuracy: 0.9894\n",
      "Epoch 00018: val_loss did not improve from 0.02820\n",
      "263/263 [==============================] - 12s 46ms/step - loss: 0.0324 - accuracy: 0.9894 - val_loss: 0.0314 - val_accuracy: 0.9914\n",
      "Epoch 19/20\n",
      "262/263 [============================>.] - ETA: 0s - loss: 0.0315 - accuracy: 0.9894\n",
      "Epoch 00019: val_loss did not improve from 0.02820\n",
      "263/263 [==============================] - 12s 45ms/step - loss: 0.0315 - accuracy: 0.9895 - val_loss: 0.0328 - val_accuracy: 0.9910\n",
      "Epoch 20/20\n",
      "263/263 [==============================] - ETA: 0s - loss: 0.0329 - accuracy: 0.9889\n",
      "Epoch 00020: val_loss did not improve from 0.02820\n",
      "263/263 [==============================] - 12s 44ms/step - loss: 0.0329 - accuracy: 0.9889 - val_loss: 0.0309 - val_accuracy: 0.9912\n"
     ]
    }
   ],
   "source": [
    "CNN_history=model2.fit (train_image, TrainOneHot, validation_split=0.2, epochs=20, batch_size=128, callbacks=callbacks_list)"
   ]
  },
  {
   "cell_type": "code",
   "execution_count": 25,
   "metadata": {},
   "outputs": [],
   "source": [
    "data = pd.read_csv('./test.csv')\n",
    "test_image = data.iloc[:, :].to_numpy().astype('float32')/255\n",
    "test_image = test_image.reshape(test_image.shape[0], 28, 28, 1).astype('float32')\n"
   ]
  },
  {
   "cell_type": "code",
   "execution_count": 28,
   "metadata": {},
   "outputs": [
    {
     "name": "stdout",
     "output_type": "stream",
     "text": [
      "(28000,)\n"
     ]
    }
   ],
   "source": [
    "result = model2.predict_classes(test_image).flatten()\n",
    "print(result.shape)\n"
   ]
  },
  {
   "cell_type": "code",
   "execution_count": 27,
   "metadata": {},
   "outputs": [],
   "source": [
    "import csv\n",
    "with open('submit.csv', mode='w', newline='') as submit_file:\n",
    "    csv_writer = csv.writer(submit_file)\n",
    "    header = ['ImageId', 'Label']\n",
    "    csv_writer.writerow(header)\n",
    "    for i in range(result.shape[0]):\n",
    "        row = [i+1, result[i]]\n",
    "        csv_writer.writerow(row)"
   ]
  }
 ],
 "metadata": {
  "interpreter": {
   "hash": "bb8d9442538ee52b68603e6bc539d9f8dffc6d7011170b33a7aff01cf8b00899"
  },
  "kernelspec": {
   "display_name": "Python 3.8.12 64-bit ('tensorflow': conda)",
   "language": "python",
   "name": "python3"
  },
  "language_info": {
   "codemirror_mode": {
    "name": "ipython",
    "version": 3
   },
   "file_extension": ".py",
   "mimetype": "text/x-python",
   "name": "python",
   "nbconvert_exporter": "python",
   "pygments_lexer": "ipython3",
   "version": "3.8.12"
  },
  "orig_nbformat": 4
 },
 "nbformat": 4,
 "nbformat_minor": 2
}
